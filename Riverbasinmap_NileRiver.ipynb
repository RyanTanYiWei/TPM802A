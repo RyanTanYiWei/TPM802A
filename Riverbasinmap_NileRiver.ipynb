{
  "cells": [
    {
      "cell_type": "markdown",
      "metadata": {
        "id": "D2d1Yo7nqJ6S"
      },
      "source": [
        "# Importing the required libraries"
      ]
    },
    {
      "cell_type": "code",
      "execution_count": 1,
      "metadata": {
        "id": "XHUIjsYYG2_S"
      },
      "outputs": [],
      "source": [
        "from mpl_toolkits.basemap import Basemap\n",
        "from mpl_toolkits.axes_grid1.inset_locator import zoomed_inset_axes\n",
        "import matplotlib.pyplot as plt\n",
        "import numpy as np\n",
        "from matplotlib.patches import Polygon\n",
        "from matplotlib.collections import PatchCollection"
      ]
    },
    {
      "cell_type": "markdown",
      "metadata": {
        "id": "4gCpHl_x2Det"
      },
      "source": [
        "# Reading shapefiles, drawing dams and country boundaries\n",
        "- The map must include the watershed boundaries, the tributaries, the boundaries between Ethiopia, Sudan and Egypt, and the four major reservoirs located in the main branch of the Nile, i.e. GERD, Roseires, Sennar and HAD.\n",
        "- Further, you also designed a topological representation of the Nile, showing the arrangement of the four reservoirs, the direction of flow, the inflow, and outflow to the major water users and indicated the countries’ boundaries\n",
        "- Place these figures side by side into a single figure and add a descriptive caption about \n",
        "the system. Briefly describe in a paragraph the geopolitical context of the Nile and its shared water \n",
        "resources."
      ]
    },
    {
      "cell_type": "code",
      "execution_count": 11,
      "metadata": {
        "colab": {
          "base_uri": "https://localhost:8080/",
          "height": 566
        },
        "id": "HEbrDLfL13Be",
        "outputId": "9bc9ae27-8067-49cb-d178-40a9e6959bc1"
      },
      "outputs": [
        {
          "name": "stderr",
          "output_type": "stream",
          "text": [
            "c:\\Users\\ryant\\miniconda3\\envs\\wat\\lib\\site-packages\\pyproj\\crs\\crs.py:141: FutureWarning: '+init=<authority>:<code>' syntax is deprecated. '<authority>:<code>' is the preferred initialization method. When making the change, be mindful of axis order changes: https://pyproj4.github.io/pyproj/stable/gotchas.html#axis-order-changes-in-proj-6\n",
            "  in_crs_string = _prepare_from_proj_string(in_crs_string)\n",
            "C:\\Users\\ryant\\AppData\\Local\\Temp\\ipykernel_19880\\843918165.py:30: MatplotlibDeprecationWarning: Passing the closed parameter of __init__() positionally is deprecated since Matplotlib 3.6; the parameter will become keyword-only two minor releases later.\n",
            "  patches.append(Polygon(np.array(shape), True))\n",
            "C:\\Users\\ryant\\AppData\\Local\\Temp\\ipykernel_19880\\843918165.py:41: MatplotlibDeprecationWarning: Passing the closed parameter of __init__() positionally is deprecated since Matplotlib 3.6; the parameter will become keyword-only two minor releases later.\n",
            "  patches.append( Polygon(np.array(shape), True) )\n",
            "C:\\Users\\ryant\\AppData\\Local\\Temp\\ipykernel_19880\\843918165.py:45: MatplotlibDeprecationWarning: Passing the closed parameter of __init__() positionally is deprecated since Matplotlib 3.6; the parameter will become keyword-only two minor releases later.\n",
            "  patches.append( Polygon(np.array(shape), True) )\n",
            "C:\\Users\\ryant\\AppData\\Local\\Temp\\ipykernel_19880\\843918165.py:49: MatplotlibDeprecationWarning: Passing the closed parameter of __init__() positionally is deprecated since Matplotlib 3.6; the parameter will become keyword-only two minor releases later.\n",
            "  patches.append( Polygon(np.array(shape), True) )\n",
            "C:\\Users\\ryant\\AppData\\Local\\Temp\\ipykernel_19880\\843918165.py:53: MatplotlibDeprecationWarning: Passing the closed parameter of __init__() positionally is deprecated since Matplotlib 3.6; the parameter will become keyword-only two minor releases later.\n",
            "  patches.append( Polygon(np.array(shape), True) )\n"
          ]
        },
        {
          "data": {
            "text/plain": [
              "<Figure size 800x1500 with 0 Axes>"
            ]
          },
          "metadata": {},
          "output_type": "display_data"
        }
      ],
      "source": [
        "fig = plt.figure()\n",
        "fig.set_size_inches([17.05,8.15])\n",
        "ax = fig.add_subplot(111)\n",
        "\n",
        "# Use the bounding box using the lower and upper latitudes and longitudes of the region\n",
        "map = Basemap(llcrnrlat=-4,llcrnrlon=21,urcrnrlat=36,urcrnrlon=45, resolution='h') #indicates the upper and lower latitude and longitude of the river basin\n",
        "map.arcgisimage(service='World_Shaded_Relief') \n",
        "map.fillcontinents(color='None', lake_color='dodgerblue')\n",
        "map.drawrivers(color='dodgerblue',linewidth=1.0,zorder=1)\n",
        "map.drawcountries(color='k',linewidth=1.25)\n",
        "\n",
        "map.readshapefile('Shapefiles/Aqueduct_river_basins_NILE', 'Basin', drawbounds=False)\n",
        "map.readshapefile('Shapefiles/Egypt-boundaries', 'Egypt', drawbounds=True)\n",
        "map.readshapefile('Shapefiles/Ethiopia-boundaries', 'Ethiopia', drawbounds=False)\n",
        "map.readshapefile('Shapefiles/SouthSudan-boundaries', 'SouthSudan', drawbounds=False)\n",
        "map.readshapefile('Shapefiles/Sudan-boundaries', 'Sudan', drawbounds=False)\n",
        "map.readshapefile('Shapefiles/Blue-Nile-Parced', 'River', drawbounds=False)\n",
        "\n",
        "#----------------------------------------------------\n",
        "\n",
        "# Plot River\n",
        "#patches = []\n",
        "#for info, shape in zip(map.River_info, map.River):\n",
        "#        patches.append( Polygon(np.array(shape), True) )\n",
        "#ax.add_collection(PatchCollection(patches, edgecolor='k', alpha=0.6, linewidths=0, zorder=2))\n",
        "\n",
        "# Plot Boundary of Nile Basin\n",
        "patches = []\n",
        "for info, shape in zip(map.Basin_info, map.Basin):      \n",
        "    patches.append(Polygon(np.array(shape), True))\n",
        "ax.add_collection(PatchCollection(patches, facecolor='0.33', edgecolor='0.5', alpha=0.6))\n",
        "\n",
        "#----------------------------------------------------\n",
        "\n",
        "# Plot Country Boundaries\n",
        "c_alpha = 0.1\n",
        "c_color = ['pink','orange','purple','cyan']\n",
        "\n",
        "patches = []\n",
        "for info, shape in zip(map.Egypt_info, map.Egypt):\n",
        "        patches.append( Polygon(np.array(shape), True) )\n",
        "ax.add_collection(PatchCollection(patches, facecolor= c_color[0], edgecolor='k', alpha=c_alpha, linewidths=1., zorder=2))\n",
        "patches = []\n",
        "for info, shape in zip(map.Ethiopia_info, map.Ethiopia):\n",
        "        patches.append( Polygon(np.array(shape), True) )\n",
        "ax.add_collection(PatchCollection(patches, facecolor= c_color[1], edgecolor='k', alpha=c_alpha, linewidths=1., zorder=2))\n",
        "patches = []\n",
        "for info, shape in zip(map.SouthSudan, map.SouthSudan):\n",
        "        patches.append( Polygon(np.array(shape), True) )\n",
        "ax.add_collection(PatchCollection(patches, facecolor= c_color[2], edgecolor='k', alpha=c_alpha, linewidths=1., zorder=2))\n",
        "patches = []\n",
        "for info, shape in zip(map.Sudan_info, map.Sudan):\n",
        "        patches.append( Polygon(np.array(shape), True) )\n",
        "ax.add_collection(PatchCollection(patches, facecolor= c_color[3], edgecolor='k', alpha=c_alpha, linewidths=1., zorder=2))\n",
        "\n",
        "c_country = ['Egypt','Ethiopia','South Sudan', 'Sudan']\n",
        "c_long = [29.626798, 38, 29.3, 30]\n",
        "c_lat = [26.714026, 9, 7.5, 15.5 ]\n",
        "\n",
        "# label country\n",
        "for c in range(4):\n",
        "  plt.text((c_long[c]),(c_lat[c]), c_country[c], fontsize=16, ha='center',va='center',color='k')\n",
        "\n",
        "#----------------------------------------------------\n",
        "\n",
        "# Plot Dams\n",
        "dams_names=['GERD', 'Roseires', 'Sennar', 'HAD']\n",
        "dams_longitude = [35.093056,34.3875,33.634,32.877778]\n",
        "dams_latitude = [11.215278,11.79805,13.5475, 23.970556]\n",
        "x, y = map(dams_longitude, dams_latitude)\n",
        "map.scatter(x, y, c='red', s=150, marker='^')\n",
        "    \n",
        "# label Dams\n",
        "props = dict(boxstyle='round', facecolor='wheat', alpha=0.5)\n",
        "for dam in range(1,4):\n",
        "  plt.text((dams_longitude[dam] - .5),(dams_latitude[dam] + .15), dams_names[dam], fontsize=10, ha='right',va='center',color='red', bbox=props)\n",
        "plt.text((dams_longitude[0] + 0.5),(dams_latitude[0] + .15), dams_names[0], fontsize=10, ha='left',va='center',color='red', bbox=props)\n",
        "\n",
        "#----------------------------------------------------\n",
        "\n",
        "## save the figure in pdf format\n",
        "fig.set_size_inches([8, 15])\n",
        "fig.savefig('RiverBasinMap.png') # you can save it in any format by changing the suffix, e.g. RiverBasinMap.png, RiverBasinMap.svg\n",
        "fig.clf()\n"
      ]
    }
  ],
  "metadata": {
    "colab": {
      "collapsed_sections": [],
      "provenance": []
    },
    "kernelspec": {
      "display_name": "Python 3",
      "name": "python3"
    },
    "language_info": {
      "codemirror_mode": {
        "name": "ipython",
        "version": 3
      },
      "file_extension": ".py",
      "mimetype": "text/x-python",
      "name": "python",
      "nbconvert_exporter": "python",
      "pygments_lexer": "ipython3",
      "version": "3.10.9"
    }
  },
  "nbformat": 4,
  "nbformat_minor": 0
}
